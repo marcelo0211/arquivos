{
  "nbformat": 4,
  "nbformat_minor": 0,
  "metadata": {
    "colab": {
      "provenance": [],
      "authorship_tag": "ABX9TyNg0Jk5kLfJCbx/YYWZ7j3I",
      "include_colab_link": true
    },
    "kernelspec": {
      "name": "python3",
      "display_name": "Python 3"
    },
    "language_info": {
      "name": "python"
    }
  },
  "cells": [
    {
      "cell_type": "markdown",
      "metadata": {
        "id": "view-in-github",
        "colab_type": "text"
      },
      "source": [
        "<a href=\"https://colab.research.google.com/github/marcelo0211/arquivos/blob/master/Teorema_do_limite_central_teste1.ipynb\" target=\"_parent\"><img src=\"https://colab.research.google.com/assets/colab-badge.svg\" alt=\"Open In Colab\"/></a>"
      ]
    },
    {
      "cell_type": "code",
      "source": [
        "import pandas as pd\n",
        "import numpy as np\n",
        "import random \n",
        "import seaborn as sns"
      ],
      "metadata": {
        "id": "20qbM0GDYkBb"
      },
      "execution_count": 6,
      "outputs": []
    },
    {
      "cell_type": "code",
      "execution_count": 53,
      "metadata": {
        "colab": {
          "base_uri": "https://localhost:8080/"
        },
        "id": "mbO71RkLYFS8",
        "outputId": "b010a2a6-5e73-4c2f-b20c-4c1893f7e389"
      },
      "outputs": [
        {
          "output_type": "stream",
          "name": "stdout",
          "text": [
            "[1450, 1245, 1234, 4535, 4346, 4440, 2345, 3211, 4511, 1233, 3345, 4566]\n"
          ]
        }
      ],
      "source": [
        "lista = [1450,1245,1234,4535,4346,4440,2345,3211,4511,1233,3345,4566]\n",
        "print(lista)\n",
        "#lista = np.random.randint(1,80,(12,12))\n",
        "#print(lista)\n",
        "\n",
        "\n"
      ]
    },
    {
      "cell_type": "code",
      "source": [
        "pop = lista\n",
        "means = []\n",
        "for i in range(12):\n",
        "  sample = random.sample(lista,k=6)\n",
        "  means.append(np.mean(sample))\n",
        "means  "
      ],
      "metadata": {
        "colab": {
          "base_uri": "https://localhost:8080/"
        },
        "id": "FOTsKgaTdO_B",
        "outputId": "430c25de-33ea-4aea-e234-cee59004a518"
      },
      "execution_count": 60,
      "outputs": [
        {
          "output_type": "execute_result",
          "data": {
            "text/plain": [
              "[2683.8333333333335,\n",
              " 2364.0,\n",
              " 2853.3333333333335,\n",
              " 3252.3333333333335,\n",
              " 2729.0,\n",
              " 3568.8333333333335,\n",
              " 4268.166666666667,\n",
              " 3442.1666666666665,\n",
              " 3201.0,\n",
              " 3261.5,\n",
              " 2686.5,\n",
              " 2003.0]"
            ]
          },
          "metadata": {},
          "execution_count": 60
        }
      ]
    },
    {
      "cell_type": "code",
      "source": [
        "np.mean(means)"
      ],
      "metadata": {
        "colab": {
          "base_uri": "https://localhost:8080/"
        },
        "id": "F00ON3h8nfb1",
        "outputId": "38c7b3de-a4b3-43b7-dd2c-d84ed1e38aa2"
      },
      "execution_count": 61,
      "outputs": [
        {
          "output_type": "execute_result",
          "data": {
            "text/plain": [
              "3026.138888888889"
            ]
          },
          "metadata": {},
          "execution_count": 61
        }
      ]
    },
    {
      "cell_type": "code",
      "source": [
        "np.mean(lista)"
      ],
      "metadata": {
        "colab": {
          "base_uri": "https://localhost:8080/"
        },
        "id": "NOjGNVXLoBUP",
        "outputId": "3bbdd277-bcd4-4599-d71d-c7189c6d39ae"
      },
      "execution_count": 62,
      "outputs": [
        {
          "output_type": "execute_result",
          "data": {
            "text/plain": [
              "3038.4166666666665"
            ]
          },
          "metadata": {},
          "execution_count": 62
        }
      ]
    },
    {
      "cell_type": "code",
      "source": [
        "sns.histplot(means, kde = True )"
      ],
      "metadata": {
        "colab": {
          "base_uri": "https://localhost:8080/",
          "height": 282
        },
        "id": "QcaajHD7oUcY",
        "outputId": "65400b47-e6fa-4278-b1ff-f4c03d2c30d5"
      },
      "execution_count": 63,
      "outputs": [
        {
          "output_type": "execute_result",
          "data": {
            "text/plain": [
              "<Axes: ylabel='Count'>"
            ]
          },
          "metadata": {},
          "execution_count": 63
        },
        {
          "output_type": "display_data",
          "data": {
            "text/plain": [
              "<Figure size 432x288 with 1 Axes>"
            ],
            "image/png": "[encoded data removed]"
          },
          "metadata": {
            "needs_background": "light"
          }
        }
      ]
    },
    {
      "cell_type": "code",
      "source": [
        "sns.histplot(lista, kde = True )"
      ],
      "metadata": {
        "colab": {
          "base_uri": "https://localhost:8080/",
          "height": 282
        },
        "id": "cpi1h5Zgojkc",
        "outputId": "763d0949-c468-41ae-afea-ca973ffdef4f"
      },
      "execution_count": 64,
      "outputs": [
        {
          "output_type": "execute_result",
          "data": {
            "text/plain": [
              "<Axes: ylabel='Count'>"
            ]
          },
          "metadata": {},
          "execution_count": 64
        },
        {
          "output_type": "display_data",
          "data": {
            "text/plain": [
              "<Figure size 432x288 with 1 Axes>"
            ],
            "image/png": "[encoded data removed]"
          },
          "metadata": {
            "needs_background": "light"
          }
        }
      ]
    }
  ]
}